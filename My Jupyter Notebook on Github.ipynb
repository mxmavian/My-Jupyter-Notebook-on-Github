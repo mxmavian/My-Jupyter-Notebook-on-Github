{
  "metadata": {
    "language_info": {
      "codemirror_mode": {
        "name": "python",
        "version": 3
      },
      "file_extension": ".py",
      "mimetype": "text/x-python",
      "name": "python",
      "nbconvert_exporter": "python",
      "pygments_lexer": "ipython3",
      "version": "3.8"
    },
    "kernelspec": {
      "name": "python",
      "display_name": "Python (Pyodide)",
      "language": "python"
    }
  },
  "nbformat_minor": 4,
  "nbformat": 4,
  "cells": [
    {
      "cell_type": "markdown",
      "source": "# My Jupyter Notebook on GitHub",
      "metadata": {
        "tags": []
      }
    },
    {
      "cell_type": "markdown",
      "source": "<b>Maximilien Mavian</b>\n<br>\nAnalyst",
      "metadata": {
        "tags": []
      }
    },
    {
      "cell_type": "markdown",
      "source": "# CELL 3",
      "metadata": {}
    },
    {
      "cell_type": "markdown",
      "source": "<i>I am interested in data science because I want to be able to use my skills to find the truth. I am interested in using data science to answer questions about public policy.</i>\n</br>\n<i",
      "metadata": {}
    },
    {
      "cell_type": "markdown",
      "source": "# CELL 4 and 5",
      "metadata": {
        "tags": []
      }
    },
    {
      "cell_type": "markdown",
      "source": "### This code is supposed to print \"Hello world\" using the python command print()",
      "metadata": {}
    },
    {
      "cell_type": "code",
      "source": "print(\"Hello world\")",
      "metadata": {
        "trusted": true
      },
      "execution_count": 5,
      "outputs": [
        {
          "name": "stdout",
          "text": "Hello world\n",
          "output_type": "stream"
        }
      ]
    },
    {
      "cell_type": "markdown",
      "source": "# CELL 6",
      "metadata": {}
    },
    {
      "cell_type": "markdown",
      "source": "<u>[URL to IBM Home Page](https://www.ibm.com/us-en?ar=1)</u>",
      "metadata": {}
    },
    {
      "cell_type": "markdown",
      "source": "- This \n    - is\n- A\n    - List",
      "metadata": {
        "tags": []
      }
    },
    {
      "cell_type": "markdown",
      "source": "<table align=\"right\">\n\n| This | is | a | table |\n| ------ | ------ | ------ | ------ |\n| cell | cell | cell | cell |\n| row | row | row | row |\n    \n</table>",
      "metadata": {}
    },
    {
      "cell_type": "markdown",
      "source": "# END",
      "metadata": {}
    }
  ]
}